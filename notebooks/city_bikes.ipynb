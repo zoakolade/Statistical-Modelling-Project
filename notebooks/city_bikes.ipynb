{
 "cells": [
  {
   "cell_type": "markdown",
   "metadata": {},
   "source": [
    "# CityBikes"
   ]
  },
  {
   "cell_type": "markdown",
   "metadata": {},
   "source": [
    "Send a request to CityBikes for the city of your choice. "
   ]
  },
  {
   "cell_type": "code",
   "execution_count": null,
   "metadata": {},
   "outputs": [],
   "source": [
    "# First, let's install the requests library\n",
    "!pip install requests\n",
    "\n",
    "# Now, let's import the requests library\n",
    "import requests\n",
    "\n",
    "# Add the API endpoint URL without any leading spaces\n",
    "url = \"http://api.citybik.es/v2/networks/velobike-moscow\"\n",
    "\n",
    "# Make a GET request to the API endpoint\n",
    "response = requests.get(url)\n",
    "\n",
    "# Print the response content\n",
    "print(response.text)"
   ]
  },
  {
   "cell_type": "code",
   "execution_count": null,
   "metadata": {},
   "outputs": [],
   "source": [
    "# Check for successful response\n",
    "if response.status_code == 200:\n",
    "    data = response.json()\n",
    "    # Extract station details\n",
    "    network = data['network']\n",
    "    stations = network['stations']\n",
    "    print(stations)"
   ]
  },
  {
   "cell_type": "markdown",
   "metadata": {},
   "source": [
    "Parse through the response to get the details you want for the bike stations in that city (latitude, longitude, number of bikes). "
   ]
  },
  {
   "cell_type": "code",
   "execution_count": null,
   "metadata": {},
   "outputs": [],
   "source": [
    "# Process each station\n",
    "latitude = []\n",
    "longitude = []\n",
    "num_bikes = []\n",
    "\n",
    "for station in stations:\n",
    "    latitude.append(station['latitude'])\n",
    "    longitude.append(station['longitude'])\n",
    "    num_bikes.append(station['free_bikes'])"
   ]
  },
  {
   "cell_type": "markdown",
   "metadata": {},
   "source": [
    "Put your parsed results into a DataFrame."
   ]
  },
  {
   "cell_type": "code",
   "execution_count": null,
   "metadata": {},
   "outputs": [],
   "source": [
    "import pandas as pd\n",
    "\n",
    "# Assuming I already have the latitude, longitude, and num_bikes lists\n",
    "# ... (based on my previous code)\n",
    "\n",
    "# Create a DataFrame\n",
    "data = {\n",
    "    'latitude': latitude,\n",
    "    'longitude': longitude,\n",
    "    'num_bikes': num_bikes\n",
    "}\n",
    "\n",
    "df = pd.DataFrame(data)\n",
    "\n",
    "# Print the DataFrame\n",
    "print(df)"
   ]
  }
 ],
 "metadata": {
  "kernelspec": {
   "display_name": "Python 3",
   "language": "python",
   "name": "python3"
  },
  "language_info": {
   "codemirror_mode": {
    "name": "ipython",
    "version": 3
   },
   "file_extension": ".py",
   "mimetype": "text/x-python",
   "name": "python",
   "nbconvert_exporter": "python",
   "pygments_lexer": "ipython3",
   "version": "3.8.5"
  }
 },
 "nbformat": 4,
 "nbformat_minor": 4
}
