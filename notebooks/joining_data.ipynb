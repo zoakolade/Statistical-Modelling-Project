{
 "cells": [
  {
   "cell_type": "markdown",
   "metadata": {},
   "source": [
    "Join the data from Part 1 with the data from Part 2 to create a new dataframe."
   ]
  },
  {
   "cell_type": "code",
   "execution_count": 1,
   "metadata": {},
   "outputs": [],
   "source": [
    "import pandas as pd\n",
    "import numpy as np\n",
    "import seaborn as sns                      \n",
    "import matplotlib.pyplot as plt             \n",
    "%matplotlib inline     \n",
    "sns.set(color_codes=True)"
   ]
  },
  {
   "cell_type": "code",
   "execution_count": null,
   "metadata": {},
   "outputs": [],
   "source": [
    "df_city_bikes = pd.read_csv('citybikes_PL.csv')\n",
    "df_foursquare = pd.read_csv('foursquare.csv')\n",
    "df_yelp = pd.read_csv('yelp.csv')\n",
    "#joining on a composite key of columns 'bike_station_location','name','address' inorder to get a unique key to join on\n",
    "df_first_join = pd.merge(df_yelp, df_foursquare, on=['bike_station_location','name','address'], how='inner')\n",
    "df_final_join = pd.merge(df_first_join, df_city_bikes, on='bike_station_location', how='left')\n",
    "df_final_join"
   ]
  },
  {
   "cell_type": "code",
   "execution_count": null,
   "metadata": {
    "vscode": {
     "languageId": "xml"
    }
   },
   "outputs": [],
   "source": [
    "bike_station_location\tname\tmain_category_x\taddress\tprice\trating\treview_count\tstatus\tdistance_away_x\tmain_category_y\tdistance_away_y\tlatitude\tlongitude\tnum_of_bikes\n",
    "0\t45.51195046,-122.6141596\tApizza Scholls\tPizza\t4741 SE Hawthorne Blvd\t$$\t4.0\t1735\tOpen\t82.518277\tPizzeria\t82\t45.511950\t-122.614160\t3\n",
    "1\t45.51195046,-122.6141596\tSapphire Hotel\tLounges\t5008 SE Hawthorne Blvd\t$$\t4.5\t487\tOpen\t225.793673\tCocktail Bar\t216\t45.511950\t-122.614160\t3\n",
    "2\t45.51195046,-122.6141596\tEast Side Delicatessen\tDelis\t4626 SE Hawthorne Blvd\t$\t4.0\t408\tOpen\t33.461068\tDeli\t28\t45.511950\t-122.614160\t3\n",
    "3\t45.51195046,-122.6141596\tZach's Shack\tFast Food\t4611 SE Hawthorne Blvd\t$\t3.5\t270\tOpen\t58.987619\tHot Dog Joint\t55\t45.511950\t-122.614160\t3\n",
    "4\t45.54827571,-122.6111636\tNoho's Hawaiian Cafe\tHawaiian\t4627 NE Fremont St\t$$\t4.0\t374\tOpen\t340.597357\tCafé\t342\t45.548276\t-122.611164\t6\n",
    "...\t...\t...\t...\t...\t...\t...\t...\t...\t...\t...\t...\t...\t...\t...\n",
    "577\t45.5965621,-122.7478995\tHomegrown Smoker\tVegan\t8638 N Lombard St\t$$\t4.5\t703\tOpen\t896.491052\tBBQ Joint\t894\t45.596562\t-122.747900\t9\n",
    "578\t45.5965621,-122.7478995\tLeisure Public House\tPubs\t8002 N Lombard St\t$\t4.5\t235\tOpen\t829.466752\tBar\t824\t45.596562\t-122.747900\t9\n",
    "579\t45.5965621,-122.7478995\tThai Cottage\tThai\t8620 N Lombard St\t$$\t3.5\t256\tOpen\t905.682509\tThai Restaurant\t900\t45.596562\t-122.747900\t9\n",
    "580\t45.5178988,-122.6600522\tHat Yai\tThai\t605 SE Belmont St\t$$\t4.0\t238\tOpen\t141.103916\tThai Restaurant\t146\t45.517899\t-122.660052\t10\n",
    "581\t45.5178988,-122.6600522\tRum Club\tAmerican (New)\t720 SE Sandy Blvd\t$$\t4.0\t286\tOpen\t202.268601\tCocktail Bar\t211\t45.517899\t-122.660052\t10\n",
    "\n",
    "582 rows × 14 columns"
   ]
  },
  {
   "cell_type": "code",
   "execution_count": null,
   "metadata": {},
   "outputs": [],
   "source": [
    "# The combined dataframe was refined by excluding unnecessary columns (retained main_category_y due to its potential for more precise category combinations, and latitude and longitude were also retained for potential future analysis). The presence of NaN values was examined and rows containing such values were retained, as other data in those rows might influence the statistical model.\n",
    "# Duplicate rows were reviewed and removed, and an assessment was made for any outlier values. For instance, only distance values beyond the 1000m radius were deemed outliers, as we aim to exclude data beyond this radius from our statistical model.\n",
    "df_final_join.isnull().sum()"
   ]
  },
  {
   "cell_type": "markdown",
   "metadata": {},
   "source": [
    "bike_station_location     0\n",
    "name                      0\n",
    "main_category_x           0\n",
    "address                   0\n",
    "price                    20\n",
    "rating                    0\n",
    "review_count              0\n",
    "status                    0\n",
    "distance_away_x           0\n",
    "main_category_y           0\n",
    "distance_away_y           0\n",
    "latitude                  0\n",
    "longitude                 0\n",
    "num_of_bikes              0\n",
    "dtype: int64"
   ]
  },
  {
   "cell_type": "code",
   "execution_count": null,
   "metadata": {},
   "outputs": [],
   "source": [
    "#this results shows that there at 0 duplicated rows, so nothing was dropped\n",
    "df_final_join.duplicated().sum()"
   ]
  },
  {
   "cell_type": "code",
   "execution_count": null,
   "metadata": {},
   "outputs": [],
   "source": [
    "#checking to see if there are any outliers in the distance col, since these are the only outliers\n",
    "#that would be good to remove from the dataset since we only want data within 1000m\n",
    "sns.boxplot(x=df_final_cleaned['distance_away_x'])\n",
    "print(np.where((df_final_cleaned['distance_away_x']>1000) & (df_final_cleaned['distance_away_x']<0)))\n",
    "#this shows that there are no distance values > 1000m"
   ]
  },
  {
   "cell_type": "markdown",
   "metadata": {},
   "source": [
    "![Alt text](image.png)"
   ]
  },
  {
   "cell_type": "code",
   "execution_count": null,
   "metadata": {},
   "outputs": [],
   "source": [
    "df_final_cleaned = df_final_join.drop(['distance_away_y'], axis=1)\n",
    "df_final_cleaned"
   ]
  },
  {
   "cell_type": "code",
   "execution_count": null,
   "metadata": {
    "vscode": {
     "languageId": "xml"
    }
   },
   "outputs": [],
   "source": [
    "bike_station_location\tname\tmain_category_x\taddress\tprice\trating\treview_count\tstatus\tdistance_away_x\tmain_category_y\tlatitude\tlongitude\tnum_of_bikes\n",
    "0\t45.51195046,-122.6141596\tApizza Scholls\tPizza\t4741 SE Hawthorne Blvd\t$$\t4.0\t1735\tOpen\t82.518277\tPizzeria\t45.511950\t-122.614160\t3\n",
    "1\t45.51195046,-122.6141596\tSapphire Hotel\tLounges\t5008 SE Hawthorne Blvd\t$$\t4.5\t487\tOpen\t225.793673\tCocktail Bar\t45.511950\t-122.614160\t3\n",
    "2\t45.51195046,-122.6141596\tEast Side Delicatessen\tDelis\t4626 SE Hawthorne Blvd\t$\t4.0\t408\tOpen\t33.461068\tDeli\t45.511950\t-122.614160\t3\n",
    "3\t45.51195046,-122.6141596\tZach's Shack\tFast Food\t4611 SE Hawthorne Blvd\t$\t3.5\t270\tOpen\t58.987619\tHot Dog Joint\t45.511950\t-122.614160\t3\n",
    "4\t45.54827571,-122.6111636\tNoho's Hawaiian Cafe\tHawaiian\t4627 NE Fremont St\t$$\t4.0\t374\tOpen\t340.597357\tCafé\t45.548276\t-122.611164\t6\n",
    "...\t...\t...\t...\t...\t...\t...\t...\t...\t...\t...\t...\t...\t...\n",
    "577\t45.5965621,-122.7478995\tHomegrown Smoker\tVegan\t8638 N Lombard St\t$$\t4.5\t703\tOpen\t896.491052\tBBQ Joint\t45.596562\t-122.747900\t9\n",
    "578\t45.5965621,-122.7478995\tLeisure Public House\tPubs\t8002 N Lombard St\t$\t4.5\t235\tOpen\t829.466752\tBar\t45.596562\t-122.747900\t9\n",
    "579\t45.5965621,-122.7478995\tThai Cottage\tThai\t8620 N Lombard St\t$$\t3.5\t256\tOpen\t905.682509\tThai Restaurant\t45.596562\t-122.747900\t9\n",
    "580\t45.5178988,-122.6600522\tHat Yai\tThai\t605 SE Belmont St\t$$\t4.0\t238\tOpen\t141.103916\tThai Restaurant\t45.517899\t-122.660052\t10\n",
    "581\t45.5178988,-122.6600522\tRum Club\tAmerican (New)\t720 SE Sandy Blvd\t$$\t4.0\t286\tOpen\t202.268601\tCocktail Bar\t45.517899\t-122.660052\t10\n",
    "\n",
    "582 rows × 13 columns"
   ]
  },
  {
   "cell_type": "code",
   "execution_count": null,
   "metadata": {},
   "outputs": [],
   "source": [
    "#exporting to csv file for future use\n",
    "df_final_cleaned.to_csv('joined_data.csv', index=False)"
   ]
  },
  {
   "cell_type": "markdown",
   "metadata": {},
   "source": [
    "Provide a visualization that you used as part of your EDA process. Explain the initial pattern or relationship you discoved through this visualization. "
   ]
  },
  {
   "cell_type": "code",
   "execution_count": null,
   "metadata": {},
   "outputs": [],
   "source": [
    "# The boxplot reveals a handful of distances that qualify as outliers according to our dataset's distribution, yet none of these distances surpass 1000 meters. Given that our dataset is intended to encompass all distances up to 1000 meters, these outliers were retained.\n",
    "sns.boxplot(x=df_final_cleaned['distance_away_x'])"
   ]
  },
  {
   "cell_type": "markdown",
   "metadata": {},
   "source": [
    "<Axes: xlabel='distance_away_x'>"
   ]
  },
  {
   "attachments": {
    "image.png": {
     "image/png": "[encoded data removed]"
    }
   },
   "cell_type": "markdown",
   "metadata": {},
   "source": [
    "![image.png](attachment:image.png)"
   ]
  },
  {
   "cell_type": "code",
   "execution_count": null,
   "metadata": {},
   "outputs": [],
   "source": [
    "\n",
    "# Upon analyzing the scatter plot depicting the relationship between distance away and review count, the initial insight gleaned from this visualization \n",
    "# is that places in closer proximity to bike stations tend to exhibit higher review counts, aligning with our expectations.\n",
    "fig, ax = plt.subplots(figsize=(10,6))\n",
    "ax.scatter(df_final_cleaned['distance_away_x'], df_final_cleaned['review_count'])\n",
    "ax.set_xlabel('distance_away')\n",
    "ax.set_ylabel('review_count')\n",
    "plt.show()"
   ]
  },
  {
   "attachments": {
    "image.png": {
     "image/png": "[encoded data removed]"
    }
   },
   "cell_type": "markdown",
   "metadata": {},
   "source": [
    "![image.png](attachment:image.png)"
   ]
  },
  {
   "cell_type": "code",
   "execution_count": null,
   "metadata": {},
   "outputs": [],
   "source": [
    "# Upon examining the scatter plot illustrating the correlation between total potential bikes and review count, the preliminary observation derived from this visualization is that there appears to be no discernible pattern or connection between the total potential bikes available at a station \n",
    "# and the volume of reviews received by a business located within a 1000-meter radius of the bike station.\n",
    "fig, ax = plt.subplots(figsize=(10,6))\n",
    "ax.scatter(df_final_cleaned['num_of_bikes'], df_final_cleaned['review_count'])\n",
    "ax.set_xlabel('num_of_bikes')\n",
    "ax.set_ylabel('review_count')\n",
    "plt.show()"
   ]
  },
  {
   "cell_type": "markdown",
   "metadata": {},
   "source": [
    "![Alt text](image-1.png)"
   ]
  },
  {
   "cell_type": "markdown",
   "metadata": {},
   "source": [
    "# Database"
   ]
  },
  {
   "cell_type": "markdown",
   "metadata": {},
   "source": [
    "Put all your results in an SQLite3 database (remember, SQLite stores its databases as files in your local machine - make sure to create your database in your project's data/ directory!)"
   ]
  },
  {
   "cell_type": "code",
   "execution_count": null,
   "metadata": {},
   "outputs": [],
   "source": [
    "import sqlite3\n",
    "from sqlite3 import Error\n",
    "\n",
    "def create_connection(path):\n",
    "    connection = None\n",
    "    try:\n",
    "        connection = sqlite3.connect(path)\n",
    "        print(\"Connection to SQLite DB successful\")\n",
    "    except Error as e:\n",
    "        print(f\"The error '{e}' occurred\")\n",
    "\n",
    "    return connection"
   ]
  },
  {
   "cell_type": "code",
   "execution_count": null,
   "metadata": {},
   "outputs": [],
   "source": [
    "connection = create_connection(\"../data/city_bike_POI.sqlite\")"
   ]
  },
  {
   "cell_type": "markdown",
   "metadata": {},
   "source": [
    "Connection to SQLite DB successful"
   ]
  },
  {
   "cell_type": "code",
   "execution_count": null,
   "metadata": {},
   "outputs": [],
   "source": [
    "create_city_bikes_portland_table = \"\"\"\n",
    "CREATE TABLE IF NOT EXISTS city_bikes_portland (\n",
    "  bike_station_location TEXT,\n",
    "  latitude FLOAT,\n",
    "  longitude FLOAT,\n",
    "  num_of_bikes INTEGER\n",
    ");\n",
    "\"\"\""
   ]
  },
  {
   "cell_type": "code",
   "execution_count": null,
   "metadata": {},
   "outputs": [],
   "source": [
    "conn = sqlite3.connect(\"../data/city_bike_POI.sqlite\")\n",
    "c = conn.cursor()"
   ]
  },
  {
   "cell_type": "code",
   "execution_count": null,
   "metadata": {},
   "outputs": [],
   "source": [
    "c.execute(create_city_bikes_portland_table)"
   ]
  },
  {
   "cell_type": "code",
   "execution_count": null,
   "metadata": {},
   "outputs": [],
   "source": [
    "df_city_bikes.to_sql('city_bikes_portland', conn, if_exists='replace', index=False)"
   ]
  },
  {
   "cell_type": "markdown",
   "metadata": {},
   "source": [
    "236"
   ]
  },
  {
   "cell_type": "code",
   "execution_count": null,
   "metadata": {},
   "outputs": [],
   "source": [
    "create_foursquare_table = \"\"\"\n",
    "CREATE TABLE IF NOT EXISTS foursquare (\n",
    "  bike_station_location TEXT,\n",
    "  name TEXT,\n",
    "  main_category TEXT,\n",
    "  address TEXT,\n",
    "  distance_away INTEGER\n",
    ");\n",
    "\"\"\""
   ]
  },
  {
   "cell_type": "code",
   "execution_count": null,
   "metadata": {},
   "outputs": [],
   "source": [
    "c.execute(create_foursquare_table)"
   ]
  },
  {
   "cell_type": "code",
   "execution_count": null,
   "metadata": {},
   "outputs": [],
   "source": [
    "df_foursquare.to_sql('foursquare', conn, if_exists='replace', index=False)"
   ]
  },
  {
   "cell_type": "markdown",
   "metadata": {},
   "source": [
    "2353"
   ]
  },
  {
   "cell_type": "code",
   "execution_count": null,
   "metadata": {},
   "outputs": [],
   "source": [
    "#c.execute(\"\"\"SELECT * FROM foursquare\"\"\")\n",
    "#c.fetchall()\n",
    "create_yelp_table = \"\"\"\n",
    "CREATE TABLE IF NOT EXISTS yelp (\n",
    "  bike_station_location TEXT,\n",
    "  name TEXT,\n",
    "  main_category TEXT,\n",
    "  address TEXT,\n",
    "  price TEXT,\n",
    "  rating FLOAT,\n",
    "  review_count INTEGER,\n",
    "  status TEXT,\n",
    "  distance_away FLOAT\n",
    ");\n",
    "\"\"\""
   ]
  },
  {
   "cell_type": "code",
   "execution_count": null,
   "metadata": {},
   "outputs": [],
   "source": [
    "c.execute(create_yelp_table)"
   ]
  },
  {
   "cell_type": "code",
   "execution_count": null,
   "metadata": {},
   "outputs": [],
   "source": [
    "df_yelp.to_sql('yelp', conn, if_exists='replace', index=False)"
   ]
  },
  {
   "cell_type": "markdown",
   "metadata": {},
   "source": [
    "4715"
   ]
  },
  {
   "cell_type": "code",
   "execution_count": null,
   "metadata": {},
   "outputs": [],
   "source": [
    "create_joined_table = \"\"\"\n",
    "CREATE TABLE IF NOT EXISTS joined (\n",
    "  bike_station_location TEXT,\n",
    "  name TEXT,\n",
    "  main_category_x TEXT,\n",
    "  address TEXT,\n",
    "  price TEXT,\n",
    "  rating FLOAT,\n",
    "  review_count INTEGER,\n",
    "  status TEXT,\n",
    "  distance_away_x FLOAT,\n",
    "  main_category_y TEXT,\n",
    "  latitude FLOAT,\n",
    "  longitude FLOAT,\n",
    "  num_of_bikes INTEGER\n",
    ");\n",
    "\"\"\""
   ]
  },
  {
   "cell_type": "code",
   "execution_count": null,
   "metadata": {},
   "outputs": [],
   "source": [
    "c.execute(create_joined_table)"
   ]
  },
  {
   "cell_type": "code",
   "execution_count": null,
   "metadata": {},
   "outputs": [],
   "source": [
    "df_final_cleaned.to_sql('joined', conn, if_exists='replace', index=False)"
   ]
  },
  {
   "cell_type": "markdown",
   "metadata": {},
   "source": [
    "582"
   ]
  },
  {
   "cell_type": "code",
   "execution_count": null,
   "metadata": {},
   "outputs": [],
   "source": [
    "#checking to see if data was inserted correctly\n",
    "c.execute(\"\"\"SELECT * FROM joined\"\"\")\n",
    "c.fetchall()"
   ]
  },
  {
   "cell_type": "markdown",
   "metadata": {},
   "source": [
    "Look at the data before and after the join to validate your data."
   ]
  },
  {
   "cell_type": "code",
   "execution_count": null,
   "metadata": {},
   "outputs": [],
   "source": [
    "#checking to see if NaN values exist in the data before and after joining\n",
    "print(df_final_cleaned.isnull().values.any(), df_city_bikes.isnull().values.any(), df_foursquare.isnull().values.any(),\n",
    "      df_yelp.isnull().values.any())\n"
   ]
  },
  {
   "cell_type": "markdown",
   "metadata": {},
   "source": [
    "True False True True"
   ]
  },
  {
   "cell_type": "code",
   "execution_count": null,
   "metadata": {},
   "outputs": [],
   "source": [
    "#checking to see if there are any duplicate rows in our resulting joined data\n",
    "df_final_cleaned.duplicated().values.any()\n"
   ]
  },
  {
   "cell_type": "markdown",
   "metadata": {},
   "source": [
    "False"
   ]
  },
  {
   "cell_type": "code",
   "execution_count": null,
   "metadata": {},
   "outputs": [],
   "source": [
    "#checking to see if the number of rows in the data after joining is less than the rows from the 2 tables joined with \n",
    "#the composite key\n",
    "print(df_foursquare.shape, df_yelp.shape, df_final_cleaned.shape)\n"
   ]
  },
  {
   "cell_type": "markdown",
   "metadata": {},
   "source": [
    "(2353, 5) (4715, 9) (582, 13)"
   ]
  }
 ],
 "metadata": {
  "kernelspec": {
   "display_name": "Python 3",
   "language": "python",
   "name": "python3"
  },
  "language_info": {
   "codemirror_mode": {
    "name": "ipython",
    "version": 3
   },
   "file_extension": ".py",
   "mimetype": "text/x-python",
   "name": "python",
   "nbconvert_exporter": "python",
   "pygments_lexer": "ipython3",
   "version": "3.11.4"
  }
 },
 "nbformat": 4,
 "nbformat_minor": 4
}
