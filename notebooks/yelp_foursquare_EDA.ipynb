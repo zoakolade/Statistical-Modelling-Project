{
 "cells": [
  {
   "cell_type": "markdown",
   "metadata": {},
   "source": [
    "# Foursquare"
   ]
  },
  {
   "cell_type": "markdown",
   "metadata": {},
   "source": [
    "Send a request to Foursquare with a small radius (1000m) for all the bike stations in your city of choice. "
   ]
  },
  {
   "cell_type": "code",
   "execution_count": 3,
   "metadata": {},
   "outputs": [],
   "source": [
    "import requests\n",
    "import pandas as pd\n",
    "import os "
   ]
  },
  {
   "cell_type": "code",
   "execution_count": null,
   "metadata": {},
   "outputs": [],
   "source": [
    "bikes_data = pd.read_csv('city_bikes_portland.csv', index_col=0)\n",
    "bikes_data\n",
    "\n",
    "url = \"https://api.foursquare.com/v3/places/search\"\n",
    "api_key = os.environ[\"APIfoursquare\"]\n",
    "headers = {\"Accept\": \"application/json\",\"Authorization\": api_key}\n",
    "response_dict = {}\n",
    "for i in bikes_data.index:\n",
    "    row = bikes_data.loc[i]\n",
    "    lat_long = str(row['latitude']) + ',' + str(row['longitude'])\n",
    "    params = {'radius':1000,'ll':lat_long}\n",
    "    response = requests.get(url, headers=headers, params=params)\n",
    "    data = response.json()\n",
    "    response_dict[lat_long] = data"
   ]
  },
  {
   "cell_type": "code",
   "execution_count": null,
   "metadata": {},
   "outputs": [],
   "source": [
    "response_dict"
   ]
  },
  {
   "cell_type": "markdown",
   "metadata": {},
   "source": [
    "Parse through the response to get the POI (such as restaurants, bars, etc) details you want (ratings, name, location, etc)"
   ]
  },
  {
   "cell_type": "code",
   "execution_count": null,
   "metadata": {},
   "outputs": [],
   "source": [
    "name_list = []\n",
    "main_category_list = []\n",
    "location_list = []\n",
    "distance_list = []\n",
    "lat_long_list = []\n",
    "error_list_indexes = []\n",
    "index_count = 0\n",
    "for i in response_dict:\n",
    "    for x in response_dict[i]['results']:\n",
    "        lat_long_list.append(i)\n",
    "        name_list.append(x['name'])\n",
    "        distance_list.append(x['distance'])\n",
    "        #there are 5 businesses with no category, so when that is the case it is replaced with 'n/a'\n",
    "        try:\n",
    "            main_category_list.append(x['categories'][0]['name'])\n",
    "        except:\n",
    "            main_category_list.append('n/a')\n",
    "            error_list_indexes.append(index_count)\n",
    "        index_count += 1\n",
    "        #there are 31 businesses with no pirmary address, so when that is the case it is replaced with the formatted_address\n",
    "        #since that will still give some information on the location even without the primary address\n",
    "        try:\n",
    "            location_list.append(x['location']['address'])\n",
    "        except:\n",
    "            location_list.append(x['location']['formatted_address'])\n",
    "            error_list_indexes.append(index_count)\n",
    "        index_count += 1\n",
    "\n",
    "df_dict_fs = {'bike_station_location':lat_long_list, 'name':name_list, 'main_category':main_category_list, 'address':location_list, 'distance_away':distance_list}\n",
    "\n",
    "#print(len(location_list), len(name_list), len(lat_long_list), len(main_category_list), len(distance_list))"
   ]
  },
  {
   "cell_type": "markdown",
   "metadata": {},
   "source": [
    "Put your parsed results into a DataFrame"
   ]
  },
  {
   "cell_type": "code",
   "execution_count": null,
   "metadata": {},
   "outputs": [],
   "source": [
    "df_fs = pd.DataFrame(df_dict_fs)\n",
    "df_fs\n",
    "#exporting to csv file for future use\n",
    "#df_fs.to_csv('foursquare.csv', index=False)"
   ]
  },
  {
   "cell_type": "markdown",
   "metadata": {},
   "source": [
    "# Yelp"
   ]
  },
  {
   "cell_type": "markdown",
   "metadata": {},
   "source": [
    "Send a request to Yelp with a small radius (1000m) for all the bike stations in your city of choice. "
   ]
  },
  {
   "cell_type": "code",
   "execution_count": 4,
   "metadata": {},
   "outputs": [],
   "source": [
    "import requests\n",
    "import pandas as pd\n",
    "import os"
   ]
  },
  {
   "cell_type": "code",
   "execution_count": null,
   "metadata": {},
   "outputs": [],
   "source": [
    "bikes_data = pd.read_csv('city_bikes_portland.csv', index_col=0)\n",
    "bikes_data\n",
    "\n",
    "url = \"https://api.yelp.com/v3/businesses/search\"\n",
    "api_key = os.environ[\"YELP_API\"]\n",
    "headers = {\"accept\": \"application/json\",'Authorization': 'Bearer %s' % api_key}\n",
    "response_dict_yelp = {}\n",
    "for i in bikes_data.index:\n",
    "    row = bikes_data.loc[i]\n",
    "    lat = row['latitude']\n",
    "    long = row['longitude']\n",
    "    lat_long = str(row['latitude']) + ',' + str(row['longitude'])\n",
    "    params = {'radius':1000,'latitude':lat,'longitude':long }\n",
    "    response = requests.get(url, headers=headers, params=params)\n",
    "    data = response.json()\n",
    "    response_dict_yelp[lat_long] = data"
   ]
  },
  {
   "cell_type": "markdown",
   "metadata": {},
   "source": [
    "Parse through the response to get the POI (such as restaurants, bars, etc) details you want (ratings, name, location, etc)"
   ]
  },
  {
   "cell_type": "code",
   "execution_count": null,
   "metadata": {},
   "outputs": [],
   "source": [
    "name_list = []\n",
    "main_category_list = []\n",
    "location_list = []\n",
    "distance_list = []\n",
    "lat_long_list = []\n",
    "rating_list = []\n",
    "review_count_list = []\n",
    "status_list = []\n",
    "price_list = []\n",
    "error_list_indexes = []\n",
    "index_count = 0\n",
    "for i in response_dict_yelp:\n",
    "    for x in response_dict_yelp[i]['businesses']:\n",
    "        lat_long_list.append(i)\n",
    "        name_list.append(x['name'])\n",
    "        main_category_list.append(x['categories'][0]['title'])\n",
    "        location_list.append(x['location']['display_address'][0])\n",
    "        distance_list.append(x['distance'])\n",
    "        rating_list.append(x['rating'])\n",
    "        review_count_list.append(x['review_count'])\n",
    "        if x['is_closed'] == False:\n",
    "            status_list.append('Open')\n",
    "        else:\n",
    "            status_list.append('Closed')\n",
    "        #there are 530 businesses without a price description, so those were replaced with 'n/a'\n",
    "        try:\n",
    "            price_list.append(x['price'])\n",
    "        except:\n",
    "            price_list.append('n/a')\n",
    "            error_list_indexes.append(index_count)\n",
    "        index_count += 1\n",
    "\n",
    "df_dict_yelp = {'bike_station_location':lat_long_list, 'name':name_list, 'main_category':main_category_list, 'address':location_list, \n",
    "                'price':price_list, 'rating':rating_list, 'review_count':review_count_list, 'status':status_list, 'distance_away':distance_list}\n",
    "#len(error_list_indexes)"
   ]
  },
  {
   "cell_type": "markdown",
   "metadata": {},
   "source": [
    "Put your parsed results into a DataFrame"
   ]
  },
  {
   "cell_type": "code",
   "execution_count": null,
   "metadata": {},
   "outputs": [],
   "source": [
    "df_yelp = pd.DataFrame(df_dict_yelp)\n",
    "df_yelp\n",
    "#exporting to csv file for future use\n",
    "#df_yelp.to_csv('yelp.csv', index=False)"
   ]
  },
  {
   "cell_type": "markdown",
   "metadata": {},
   "source": [
    "# Comparing Results"
   ]
  },
  {
   "cell_type": "markdown",
   "metadata": {},
   "source": [
    "Which API provided you with more complete data? Provide an explanation. "
   ]
  },
  {
   "cell_type": "markdown",
   "metadata": {},
   "source": [
    "The data from the Yelp API was notably more comprehensive, providing an extensive business details—particularly pertinent ones such as ratings, review counts, and pricing. Moreover, the Yelp API offered a substantially larger number of businesses in comparison to the FourSquare API. This disparity might stem from the Yelp API's capacity to dynamically adjust the search radius based on the area's density, or possibly from Yelp hosting a broader array of business data. Furthermore, the Yelp API provided precise distance measurements, while the FourSquare API presented distances rounded to the nearest value."
   ]
  },
  {
   "cell_type": "markdown",
   "metadata": {},
   "source": [
    "Get the top 10 restaurants according to their rating"
   ]
  },
  {
   "cell_type": "code",
   "execution_count": null,
   "metadata": {},
   "outputs": [],
   "source": [
    "df_yelp.sort_values('rating', ascending=False).head(10)"
   ]
  }
 ],
 "metadata": {
  "kernelspec": {
   "display_name": "Python 3",
   "language": "python",
   "name": "python3"
  },
  "language_info": {
   "codemirror_mode": {
    "name": "ipython",
    "version": 3
   },
   "file_extension": ".py",
   "mimetype": "text/x-python",
   "name": "python",
   "nbconvert_exporter": "python",
   "pygments_lexer": "ipython3",
   "version": "3.11.4"
  }
 },
 "nbformat": 4,
 "nbformat_minor": 4
}
