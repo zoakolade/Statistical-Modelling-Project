{
 "cells": [
  {
   "cell_type": "markdown",
   "metadata": {},
   "source": [
    "# Foursquare"
   ]
  },
  {
   "cell_type": "markdown",
   "metadata": {},
   "source": [
    "Send a request to Foursquare with a small radius (1000m) for all the bike stations in your city of choice. "
   ]
  },
  {
   "cell_type": "code",
   "execution_count": null,
   "metadata": {},
   "outputs": [],
   "source": [
    "import requests\n",
    "import pandas as pd\n",
    "import os\n",
    "\n",
    "# Using Foursquare API credentials\n",
    "FOURSQUARE_API_KEY = os.environ['foursquare_api']  # using Foursquare API key\n",
    "VERSION = \"20230824\"  # Use the current date for the version (e.g., 20230822)\n",
    "\n",
    "# Define the city's coordinates (velobike-moscow) - latitude and longitude))\n",
    "city_latitude = 55.7449006\n",
    "city_longitude = 37.6020183\n",
    "\n",
    "# Define the base URL for place search endpoint\n",
    "url = \"https://api.foursquare.com/v3/places/search\""
   ]
  },
  {
   "cell_type": "code",
   "execution_count": null,
   "metadata": {},
   "outputs": [],
   "source": [
    "# Define the query parameters and pass it in\n",
    "headers = {\"accept\": \"application/json\",\n",
    "            \"authorization\":FOURSQUARE_API_KEY}\n",
    "params = {\n",
    "    \"v\": VERSION,\n",
    "    \"ll\": f\"{city_latitude},{city_longitude}\",  # City's latitude and longitude\n",
    "    \"radius\": 1000,  # Radius in meters (1000m = 1km)\n",
    "    \"categoryId\": \"13065\",  # Foursquare category ID for bike rental / bike share\n",
    "    \"limit\": 50\n",
    "}\n",
    "\n",
    "response = requests.get(url, headers=headers, params=params)\n",
    "response.json()"
   ]
  },
  {
   "cell_type": "markdown",
   "metadata": {},
   "source": [
    "Parse through the response to get the POI (such as restaurants, bars, etc) details you want (ratings, name, location, etc)"
   ]
  },
  {
   "cell_type": "code",
   "execution_count": null,
   "metadata": {},
   "outputs": [],
   "source": [
    "# Send a request to Foursquare with a small radius (1000m) for all the bike stations in your city of choice. \n",
    "# Process the response\n",
    "venue_data = []  # List to store venue details\n",
    "if response.status_code == 200:\n",
    "    data = response.json()\n",
    "    venues = data['results']  # Extract the list of venues\n",
    "    for venue in venues:\n",
    "        venue_name = venue['name']\n",
    "        category = venue['categories'][0]['name'] if 'categories' in venue and len(venue['categories']) > 0 else \"Unknown\"\n",
    "        rating = venue['rating'] if 'rating' in venue else \"N/A\"\n",
    "        latitude = venue['geocodes']['main']['latitude']\n",
    "        longitude = venue['geocodes']['main']['longitude']\n",
    "        venue_details = {\n",
    "            \"Venue\": venue_name,\n",
    "            \"Category\": category,\n",
    "            \"Rating\": rating,\n",
    "            \"Latitude\": latitude,\n",
    "            \"Longitude\": longitude\n",
    "        }\n",
    "        venue_data.append(venue_details)\n",
    "else:\n",
    "    print(\"Request failed with status code:\", response.status_code)"
   ]
  },
  {
   "cell_type": "markdown",
   "metadata": {},
   "source": [
    "Put your parsed results into a DataFrame"
   ]
  },
  {
   "cell_type": "code",
   "execution_count": null,
   "metadata": {},
   "outputs": [],
   "source": [
    "    # Create a DataFrame from the venue_data list\n",
    "    df = pd.DataFrame(venue_data)\n",
    "    print(df)"
   ]
  },
  {
   "cell_type": "markdown",
   "metadata": {},
   "source": [
    "# Yelp"
   ]
  },
  {
   "cell_type": "markdown",
   "metadata": {},
   "source": [
    "Send a request to Yelp with a small radius (1000m) for all the bike stations in your city of choice. "
   ]
  },
  {
   "cell_type": "code",
   "execution_count": null,
   "metadata": {},
   "outputs": [],
   "source": [
    "import requests\n",
    "import pandas as pd\n",
    "import os\n",
    "\n",
    "# Using Foursquare API credentials\n",
    "YELP_API_KEY = os.environ['API_YELP']  # using Foursquare API key\n",
    "URL = \"https://api.yelp.com/v3/businesses/search\"\n",
    "\n",
    "# City coordinates (latitude and longitude)\n",
    "city_latitude = 55.7449006\n",
    "city_longitude = 37.6020183  \n",
    "\n",
    "# Set the radius (1000 meters)\n",
    "radius = 1000\n",
    "\n",
    "# Define headers with the API key\n",
    "headers = {\n",
    "    \"Authorization\": f\"Bearer {YELP_API_KEY}\"\n",
    "}"
   ]
  },
  {
   "cell_type": "code",
   "execution_count": null,
   "metadata": {},
   "outputs": [],
   "source": [
    "# Parameters for the API request\n",
    "params = {\n",
    "    \"latitude\": city_latitude,\n",
    "    \"longitude\": city_longitude,\n",
    "    \"radius\": radius,\n",
    "    \"categories\": \"bikes\",\n",
    "    \"limit\": 50  # Number of results to retrieve (adjust as needed)\n",
    "}\n",
    "\n",
    "# Send GET request to Yelp API\n",
    "response = requests.get(URL, headers=headers, params=params)\n",
    "response\n",
    "\n",
    "# Process the response\n",
    "if response.status_code == 200:\n",
    "    data = response.json()\n",
    "    bike_stations = data['businesses']\n",
    "    for station in bike_stations:\n",
    "        station_name = station['name']\n",
    "        location = station['coordinates']  # The 'coordinates' field contains latitude and longitude\n",
    "        latitude = location['latitude']\n",
    "        longitude = location['longitude']\n",
    "        \n",
    "        print(\"Station:\", station_name)\n",
    "        print(\"Latitude:\", latitude)\n",
    "        print(\"Longitude:\", longitude)\n",
    "        print(\"---\")\n",
    "else:\n",
    "    print(\"Request failed with status code:\", response.status_code)"
   ]
  },
  {
   "cell_type": "markdown",
   "metadata": {},
   "source": [
    "Parse through the response to get the POI (such as restaurants, bars, etc) details you want (ratings, name, location, etc)"
   ]
  },
  {
   "cell_type": "code",
   "execution_count": null,
   "metadata": {},
   "outputs": [],
   "source": [
    "# Parse through the response to get the POI (such as restaurants, bars, etc) details you want (ratings, name, location, etc)\n",
    "# Parameters for the API request\n",
    "params = {\n",
    "    \"latitude\": city_latitude,\n",
    "    \"longitude\": city_longitude,\n",
    "    \"radius\": radius,\n",
    "    \"categories\": \"restaurants,bars\",  # Categories you're interested in (add more if needed)\n",
    "    \"limit\": 50  # Number of results to retrieve (adjust as needed)\n",
    "}"
   ]
  },
  {
   "cell_type": "code",
   "execution_count": null,
   "metadata": {},
   "outputs": [],
   "source": [
    "# Process the response\n",
    "if response.status_code == 200:\n",
    "    data = response.json()\n",
    "    pois = data['businesses']\n",
    "    \n",
    "    for poi in pois:\n",
    "        name = poi['name']\n",
    "        rating = poi.get('rating', \"N/A\")\n",
    "        location = poi.get('location', {})\n",
    "        address = ', '.join(location.get('display_address', []))\n",
    "        \n",
    "        print(\"Name:\", name)\n",
    "        print(\"Rating:\", rating)\n",
    "        print(\"Address:\", address)\n",
    "        print(\"---\")\n",
    "else:\n",
    "    print(\"Request failed with status code:\", response.status_code)"
   ]
  },
  {
   "cell_type": "markdown",
   "metadata": {},
   "source": [
    "Put your parsed results into a DataFrame"
   ]
  },
  {
   "cell_type": "code",
   "execution_count": null,
   "metadata": {},
   "outputs": [],
   "source": [
    "# parse results into a DataFrame\n",
    "# Process the response\n",
    "if response.status_code == 200:\n",
    "    data = response.json()\n",
    "    pois = data['businesses']\n",
    "    \n",
    "    # Create a list to store parsed POI data\n",
    "    parsed_pois = []\n",
    "    \n",
    "    for poi in pois:\n",
    "        name = poi['name']\n",
    "        rating = poi.get('rating', \"N/A\")\n",
    "        location = poi.get('location', {})\n",
    "        address = ', '.join(location.get('display_address', []))\n",
    "        \n",
    "        parsed_pois.append({\n",
    "            'Name': name,\n",
    "            'Rating': rating,\n",
    "            'Address': address\n",
    "        })\n",
    "\n",
    "    # Create a DataFrame from the parsed POI data\n",
    "    df = pd.DataFrame(parsed_pois)\n",
    "    print(df)\n",
    "    \n",
    "else:\n",
    "    print(\"Request failed with status code:\", response.status_code)"
   ]
  },
  {
   "cell_type": "markdown",
   "metadata": {},
   "source": [
    "# Comparing Results"
   ]
  },
  {
   "cell_type": "markdown",
   "metadata": {},
   "source": [
    "Which API provided you with more complete data? Provide an explanation. "
   ]
  },
  {
   "cell_type": "markdown",
   "metadata": {},
   "source": [
    "When it comes to broad range of places, venues, and points of interest, Foursquare API is a good option. It covers various categories, making it suitable for finding popular attractions, restaurants, shops, and more. However, If the focus is on food, dining, and local businesses, the Yelp Fusion API is well-suited for finding restaurants, cafes, bars, and related services. It provides comprehensive information about businesses, reviews, and ratings in the hospitality sector.\n",
    "In my own opinion the Yelp Fusion API provided more detail on ratings when compared to the Foursquare API."
   ]
  },
  {
   "cell_type": "markdown",
   "metadata": {},
   "source": [
    "Get the top 10 restaurants according to their rating"
   ]
  },
  {
   "cell_type": "code",
   "execution_count": null,
   "metadata": {},
   "outputs": [],
   "source": [
    "# Process the response\n",
    "if response.status_code == 200:\n",
    "    data = response.json()\n",
    "    top_restaurants = data['businesses'][:10]  # Get the top 10 restaurants\n",
    "    \n",
    "    # Create a list to store parsed restaurant data\n",
    "    parsed_restaurants = []\n",
    "    \n",
    "    for restaurant in top_restaurants:\n",
    "        name = restaurant['name']\n",
    "        rating = restaurant.get('rating', \"N/A\")\n",
    "        location = restaurant.get('location', {})\n",
    "        address = ', '.join(location.get('display_address', []))\n",
    "        \n",
    "        parsed_restaurants.append({\n",
    "            'Name': name,\n",
    "            'Rating': rating,\n",
    "            'Address': address\n",
    "        })\n",
    "\n",
    "    # Create a DataFrame from the parsed restaurant data\n",
    "    df = pd.DataFrame(parsed_restaurants)\n",
    "    print(df)\n",
    "    \n",
    "else:\n",
    "    print(\"Request failed with status code:\", response.status_code)"
   ]
  }
 ],
 "metadata": {
  "kernelspec": {
   "display_name": "Python 3",
   "language": "python",
   "name": "python3"
  },
  "language_info": {
   "codemirror_mode": {
    "name": "ipython",
    "version": 3
   },
   "file_extension": ".py",
   "mimetype": "text/x-python",
   "name": "python",
   "nbconvert_exporter": "python",
   "pygments_lexer": "ipython3",
   "version": "3.8.5"
  }
 },
 "nbformat": 4,
 "nbformat_minor": 4
}
