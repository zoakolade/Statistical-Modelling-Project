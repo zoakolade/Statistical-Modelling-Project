{
 "cells": [
  {
   "cell_type": "markdown",
   "metadata": {},
   "source": [
    "# Foursquare"
   ]
  },
  {
   "cell_type": "markdown",
   "metadata": {},
   "source": [
    "Send a request to Foursquare with a small radius (1000m) for all the bike stations in your city of choice. "
   ]
  },
  {
   "cell_type": "code",
   "execution_count": 1,
   "metadata": {},
   "outputs": [],
   "source": [
    "import requests\n",
    "import pandas as pd\n",
    "import os "
   ]
  },
  {
   "cell_type": "code",
   "execution_count": 2,
   "metadata": {},
   "outputs": [],
   "source": [
    "bikes_data = pd.read_csv('citybikes_PL.csv', index_col=0)\n",
    "bikes_data\n",
    "\n",
    "url = \"https://api.foursquare.com/v3/places/search\"\n",
    "api_key = os.environ[\"APIfoursquare\"]\n",
    "headers = {\"Accept\": \"application/json\",\"Authorization\": api_key}\n",
    "response_dict = {}\n",
    "for i in bikes_data.index:\n",
    "    row = bikes_data.loc[i]\n",
    "    lat_long = str(row['latitude']) + ',' + str(row['longitude'])\n",
    "    params = {'radius':1000,'ll':lat_long}\n",
    "    response = requests.get(url, headers=headers, params=params)\n",
    "    data = response.json()\n",
    "    response_dict[lat_long] = data"
   ]
  },
  {
   "cell_type": "code",
   "execution_count": null,
   "metadata": {},
   "outputs": [],
   "source": [
    "response_dict"
   ]
  },
  {
   "cell_type": "markdown",
   "metadata": {},
   "source": [
    "Parse through the response to get the POI (such as restaurants, bars, etc) details you want (ratings, name, location, etc)"
   ]
  },
  {
   "cell_type": "code",
   "execution_count": null,
   "metadata": {},
   "outputs": [],
   "source": [
    "name_list = []\n",
    "main_category_list = []\n",
    "location_list = []\n",
    "distance_list = []\n",
    "lat_long_list = []\n",
    "error_list_indexes = []\n",
    "index_count = 0\n",
    "for i in response_dict:\n",
    "    for x in response_dict[i]['results']:\n",
    "        lat_long_list.append(i)\n",
    "        name_list.append(x['name'])\n",
    "        distance_list.append(x['distance'])\n",
    "        #there are 5 businesses with no category, so when that is the case it is replaced with 'n/a'\n",
    "        try:\n",
    "            main_category_list.append(x['categories'][0]['name'])\n",
    "        except:\n",
    "            main_category_list.append('n/a')\n",
    "            error_list_indexes.append(index_count)\n",
    "        index_count += 1\n",
    "        #there are 31 businesses with no pirmary address, so when that is the case it is replaced with the formatted_address\n",
    "        #since that will still give some information on the location even without the primary address\n",
    "        try:\n",
    "            location_list.append(x['location']['address'])\n",
    "        except:\n",
    "            location_list.append(x['location']['formatted_address'])\n",
    "            error_list_indexes.append(index_count)\n",
    "        index_count += 1\n",
    "\n",
    "df_dict_fs = {'bike_station_location':lat_long_list, 'name':name_list, 'main_category':main_category_list, 'address':location_list, 'distance_away':distance_list}\n",
    "\n",
    "#print(len(location_list), len(name_list), len(lat_long_list), len(main_category_list), len(distance_list))"
   ]
  },
  {
   "cell_type": "markdown",
   "metadata": {},
   "source": [
    "Put your parsed results into a DataFrame"
   ]
  },
  {
   "cell_type": "code",
   "execution_count": null,
   "metadata": {},
   "outputs": [],
   "source": [
    "df_fs = pd.DataFrame(df_dict_fs)\n",
    "df_fs\n",
    "#exporting to csv file for future use\n",
    "#df_fs.to_csv('foursquare.csv', index=False)"
   ]
  },
  {
   "cell_type": "markdown",
   "metadata": {},
   "source": [
    "\n",
    "bike_station_location\tname\tmain_category\taddress\tdistance_away\n",
    "0\t45.51195046,-122.6141596\tPor Que No\tAmerican Restaurant\t4635 SE Hawthorne Blvd\t21\n",
    "1\t45.51195046,-122.6141596\tEast Side Delicatessen\tDeli\t4626 SE Hawthorne Blvd\t28\n",
    "2\t45.51195046,-122.6141596\tZach's Shack\tHot Dog Joint\t4611 SE Hawthorne Blvd\t55\n",
    "3\t45.51195046,-122.6141596\tJaciva's\tBakery\t4733 SE Hawthorne Blvd\t60\n",
    "4\t45.51195046,-122.6141596\tApizza Scholls\tPizzeria\t4741 SE Hawthorne Blvd\t82\n",
    "...\t...\t...\t...\t...\t...\n",
    "2348\t45.5002094,-122.670727\tStarbucks\tCoffee Shop\t2730 S Moody Ave\t351\n",
    "2349\t45.5002094,-122.670727\tFrank Wine and Flower\tWine Bar\t3712 S Bond Ave\t445\n",
    "2350\t45.5002094,-122.670727\tFlying Elephants\tAmerican Restaurant\t2730 S Moody Ave\t305\n",
    "2351\t45.5002094,-122.670727\tSouth Waterfront Greenway\tLandmarks and Outdoors\t3715 S River Pkwy\t422\n",
    "2352\t45.5002094,-122.670727\tSouth Waterfront Farmers Market\tFarmers Market\t3508 S Moody Ave\t344\n",
    "2353 rows × 5 columns"
   ]
  },
  {
   "cell_type": "markdown",
   "metadata": {},
   "source": [
    "# Yelp"
   ]
  },
  {
   "cell_type": "markdown",
   "metadata": {},
   "source": [
    "Send a request to Yelp with a small radius (1000m) for all the bike stations in your city of choice. "
   ]
  },
  {
   "cell_type": "code",
   "execution_count": 6,
   "metadata": {},
   "outputs": [],
   "source": [
    "import requests\n",
    "import pandas as pd\n",
    "import os"
   ]
  },
  {
   "cell_type": "code",
   "execution_count": 25,
   "metadata": {},
   "outputs": [],
   "source": [
    "bikes_data = pd.read_csv('citybikes_PL.csv', index_col=0)\n",
    "bikes_data\n",
    "\n",
    "url = \"https://api.yelp.com/v3/businesses/search\"\n",
    "api_key = os.environ[\"YELP_API\"]\n",
    "headers = {\"accept\": \"application/json\",'Authorization': 'Bearer %s' % api_key}\n",
    "response_dict_yelp = {}\n",
    "for i in bikes_data.index:\n",
    "    row = bikes_data.loc[i]\n",
    "    lat = row['latitude']\n",
    "    long = row['longitude']\n",
    "    lat_long = str(row['latitude']) + ',' + str(row['longitude'])\n",
    "    params = {'radius':1000,'latitude':lat,'longitude':long }\n",
    "    response = requests.get(url, headers=headers, params=params)\n",
    "    data = response.json()\n",
    "    response_dict_yelp[lat_long] = data"
   ]
  },
  {
   "cell_type": "markdown",
   "metadata": {},
   "source": [
    "Parse through the response to get the POI (such as restaurants, bars, etc) details you want (ratings, name, location, etc)"
   ]
  },
  {
   "cell_type": "code",
   "execution_count": null,
   "metadata": {},
   "outputs": [],
   "source": [
    "name_list = []\n",
    "main_category_list = []\n",
    "location_list = []\n",
    "distance_list = []\n",
    "lat_long_list = []\n",
    "rating_list = []\n",
    "review_count_list = []\n",
    "status_list = []\n",
    "price_list = []\n",
    "error_list_indexes = []\n",
    "index_count = 0\n",
    "for i in response_dict_yelp:\n",
    "    for x in response_dict_yelp[i]['businesses']:\n",
    "        lat_long_list.append(i)\n",
    "        name_list.append(x['name'])\n",
    "        main_category_list.append(x['categories'][0]['title'])\n",
    "        location_list.append(x['location']['display_address'][0])\n",
    "        distance_list.append(x['distance'])\n",
    "        rating_list.append(x['rating'])\n",
    "        review_count_list.append(x['review_count'])\n",
    "        if x['is_closed'] == False:\n",
    "            status_list.append('Open')\n",
    "        else:\n",
    "            status_list.append('Closed')\n",
    "        #there are 530 businesses without a price description, so those were replaced with 'n/a'\n",
    "        try:\n",
    "            price_list.append(x['price'])\n",
    "        except:\n",
    "            price_list.append('n/a')\n",
    "            error_list_indexes.append(index_count)\n",
    "        index_count += 1\n",
    "\n",
    "df_dict_yelp = {'bike_station_location':lat_long_list, 'name':name_list, 'main_category':main_category_list, 'address':location_list, \n",
    "                'price':price_list, 'rating':rating_list, 'review_count':review_count_list, 'status':status_list, 'distance_away':distance_list}\n",
    "#len(error_list_indexes)"
   ]
  },
  {
   "cell_type": "markdown",
   "metadata": {},
   "source": [
    "Put your parsed results into a DataFrame"
   ]
  },
  {
   "cell_type": "code",
   "execution_count": null,
   "metadata": {},
   "outputs": [],
   "source": [
    "df_yelp = pd.DataFrame(df_dict_yelp)\n",
    "df_yelp\n",
    "#exporting to csv file for future use\n",
    "#df_yelp.to_csv('yelp.csv', index=False)"
   ]
  },
  {
   "cell_type": "markdown",
   "metadata": {},
   "source": [
    "\n",
    "bike_station_location\tname\tmain_category\taddress\tprice\trating\treview_count\tstatus\tdistance_away\n",
    "0\t45.51195046,-122.6141596\tBaka Umai\tNoodles\t4703 SE Hawthorne Blvd\tn/a\t4.5\t164\tOpen\t31.189958\n",
    "1\t45.51195046,-122.6141596\tPor Qué No? Taqueria\tMexican\t4635 SE Hawthorne Blvd\t$$\t4.0\t1357\tOpen\t21.912464\n",
    "2\t45.51195046,-122.6141596\tApizza Scholls\tPizza\t4741 SE Hawthorne Blvd\t$$\t4.0\t1735\tOpen\t82.518277\n",
    "3\t45.51195046,-122.6141596\tSapphire Hotel\tLounges\t5008 SE Hawthorne Blvd\t$$\t4.5\t487\tOpen\t225.793673\n",
    "4\t45.51195046,-122.6141596\tKhao Thai\tThai\t4604 SE Hawthorne Blvd\tn/a\t4.5\t72\tOpen\t65.891309\n",
    "...\t...\t...\t...\t...\t...\t...\t...\t...\t...\n",
    "4710\t45.5002094,-122.670727\tRoss Island Grocery & Cafe\tCafes\t3502 SW Corbett Ave\t$\t4.0\t121\tOpen\t471.402251\n",
    "4711\t45.5002094,-122.670727\tOlia Poke & Tea\tPoke\t2720 S Moody Ave\t$$\t4.5\t101\tOpen\t427.257395\n",
    "4712\t45.5002094,-122.670727\tFrank Wine Bar\tWine Bars\t3712 S Bond Ave\t$$\t4.5\t71\tOpen\t441.418806\n",
    "4713\t45.5002094,-122.670727\tOracle Coffee Company\tCoffee & Tea\t3875 Sw Bond Ave\t$\t4.5\t149\tOpen\t560.689569\n",
    "4714\t45.5002094,-122.670727\tThe Old Spaghetti Factory\tItalian\t715 S Bancroft St\t$$\t3.0\t469\tOpen\t771.190320\n",
    "4715 rows × 9 columns"
   ]
  },
  {
   "cell_type": "markdown",
   "metadata": {},
   "source": [
    "# Comparing Results"
   ]
  },
  {
   "cell_type": "markdown",
   "metadata": {},
   "source": [
    "Which API provided you with more complete data? Provide an explanation. "
   ]
  },
  {
   "cell_type": "markdown",
   "metadata": {},
   "source": [
    "The data from the Yelp API was notably more comprehensive, providing an extensive business details—particularly pertinent ones such as ratings, review counts, and pricing. Moreover, the Yelp API offered a substantially larger number of businesses in comparison to the FourSquare API. This disparity might stem from the Yelp API's capacity to dynamically adjust the search radius based on the area's density, or possibly from Yelp hosting a broader array of business data. Furthermore, the Yelp API provided precise distance measurements, while the FourSquare API presented distances rounded to the nearest value."
   ]
  },
  {
   "cell_type": "markdown",
   "metadata": {},
   "source": [
    "Get the top 10 restaurants according to their rating"
   ]
  },
  {
   "cell_type": "code",
   "execution_count": null,
   "metadata": {},
   "outputs": [],
   "source": [
    "df_yelp.sort_values('rating', ascending=False).head(10)"
   ]
  },
  {
   "cell_type": "markdown",
   "metadata": {},
   "source": [
    "\n",
    "bike_station_location\tname\tmain_category\taddress\tprice\trating\treview_count\tstatus\tdistance_away\n",
    "3541\t45.5590435,-122.6340066\tThom Portland\tVietnamese\t[3039 NE Alberta St, Portland, OR 97211]\t$$\t5.0\t46\tOpen\t18.643061\n",
    "3230\t45.5554316,-122.5890544\tFresh Love\tJuice Bars & Smoothies\t[7434 NE Fremont St, Portland, OR 97213]\tn/a\t5.0\t26\tOpen\t855.834080\n",
    "3343\t45.4994679,-122.6854443\tThai Yummy\tStreet Vendors\t[1010 SW Gibbs, Portland, OR 97239]\t$\t5.0\t152\tOpen\t405.643942\n",
    "4112\t45.5337829,-122.5788583\tDZO Bar & Grill\tBars\t[7907 NE Glisan St, Portland, OR 97213]\tn/a\t5.0\t9\tOpen\t857.210069\n",
    "4516\t45.4941194,-122.5786536\tTaste of Afghan\tAfghan\t[3905 SE 82nd Ave, Eastport Food Center, Portl...\tn/a\t5.0\t36\tOpen\t67.196800\n",
    "3737\t45.55862047843104,-122.5638759\tDannon YoCream International\tDesserts\t[5858 NE 87th Ave, Portland, OR 97220]\tn/a\t5.0\t1\tOpen\t1012.829897\n",
    "1112\t45.49429475,-122.6719048\tSu Thai Kitchen\tFood Trucks\t[3714 sw Macadam Ave, Portland, OR 97239]\tn/a\t5.0\t21\tOpen\t218.927617\n",
    "2542\t45.54179953,-122.6614845\tCliff’s PDX\tDive Bars\t[128 NE Russell St, Portland, OR 97212]\t$$\t5.0\t39\tOpen\t192.098007\n",
    "1115\t45.49429475,-122.6719048\tDelish Kitchen 108\tBubble Tea\t[664 S Gaines St, Portland, OR 97239]\tn/a\t5.0\t5\tOpen\t225.456026\n",
    "1116\t45.49429475,-122.6719048\tMama's Shawarma\tMediterranean\t[S Moody And Gaines, Portland, OR 97239]\tn/a\t5.0\t8\tOpen\t207.678"
   ]
  }
 ],
 "metadata": {
  "kernelspec": {
   "display_name": "Python 3",
   "language": "python",
   "name": "python3"
  },
  "language_info": {
   "codemirror_mode": {
    "name": "ipython",
    "version": 3
   },
   "file_extension": ".py",
   "mimetype": "text/x-python",
   "name": "python",
   "nbconvert_exporter": "python",
   "pygments_lexer": "ipython3",
   "version": "3.11.4"
  }
 },
 "nbformat": 4,
 "nbformat_minor": 4
}
