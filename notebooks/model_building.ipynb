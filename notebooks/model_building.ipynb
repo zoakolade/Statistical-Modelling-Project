{
 "cells": [
  {
   "cell_type": "markdown",
   "metadata": {},
   "source": [
    "Build a regression model."
   ]
  },
  {
   "cell_type": "code",
   "execution_count": null,
   "metadata": {},
   "outputs": [],
   "source": [
    "import numpy as np\n",
    "import pandas as pd\n",
    "import statsmodels.api as sm"
   ]
  },
  {
   "cell_type": "code",
   "execution_count": null,
   "metadata": {},
   "outputs": [],
   "source": [
    "#building a multivariate regression model\n",
    "X = pd.read_csv('joined_data.csv')\n",
    "y = pd.Series(X['num_of_bikes'], name='total_bikes')"
   ]
  },
  {
   "cell_type": "code",
   "execution_count": null,
   "metadata": {},
   "outputs": [],
   "source": [
    "X = X.drop(['bike_station_location', 'name', 'main_category_x', 'address', 'price', 'status', 'main_category_y', 'num_of_bikes'], axis=1)\n",
    "X"
   ]
  },
  {
   "cell_type": "markdown",
   "metadata": {},
   "source": [
    "\n",
    "rating\treview_count\tdistance_away_x\tlatitude\tlongitude\n",
    "0\t4.0\t1735\t82.518277\t45.511950\t-122.614160\n",
    "1\t4.5\t487\t225.793673\t45.511950\t-122.614160\n",
    "2\t4.0\t408\t33.461068\t45.511950\t-122.614160\n",
    "3\t3.5\t270\t58.987619\t45.511950\t-122.614160\n",
    "4\t4.0\t374\t340.597357\t45.548276\t-122.611164\n",
    "...\t...\t...\t...\t...\t...\n",
    "577\t4.5\t703\t896.491052\t45.596562\t-122.747900\n",
    "578\t4.5\t235\t829.466752\t45.596562\t-122.747900\n",
    "579\t3.5\t256\t905.682509\t45.596562\t-122.747900\n",
    "580\t4.0\t238\t141.103916\t45.517899\t-122.660052\n",
    "581\t4.0\t286\t202.268601\t45.517899\t-122.660052\n",
    "\n",
    "582 rows × 5 columns"
   ]
  },
  {
   "cell_type": "code",
   "execution_count": null,
   "metadata": {},
   "outputs": [],
   "source": [
    "X = sm.add_constant(X) # adding a constant\n",
    "lin_reg = sm.OLS(y,X)"
   ]
  },
  {
   "cell_type": "markdown",
   "metadata": {},
   "source": [
    "Provide model output and an interpretation of the results. "
   ]
  },
  {
   "cell_type": "code",
   "execution_count": null,
   "metadata": {},
   "outputs": [],
   "source": [
    "model = lin_reg.fit()\n",
    "print_model = model.summary()\n",
    "print(print_model)"
   ]
  },
  {
   "cell_type": "markdown",
   "metadata": {},
   "source": [
    "                            OLS Regression Results                            \n",
    "==============================================================================\n",
    "Dep. Variable:            total_bikes   R-squared:                       0.186\n",
    "Model:                            OLS   Adj. R-squared:                  0.179\n",
    "Method:                 Least Squares   F-statistic:                     26.31\n",
    "Date:                Sat, 26 Aug 2023   Prob (F-statistic):           5.72e-24\n",
    "Time:                        15:30:39   Log-Likelihood:                -1708.5\n",
    "No. Observations:                 582   AIC:                             3429.\n",
    "Df Residuals:                     576   BIC:                             3455.\n",
    "Df Model:                           5                                         \n",
    "Covariance Type:            nonrobust                                         \n",
    "===================================================================================\n",
    "                      coef    std err          t      P>|t|      [0.025      0.975]\n",
    "-----------------------------------------------------------------------------------\n",
    "const           -1968.6443    553.366     -3.558      0.000   -3055.506    -881.783\n",
    "rating             -0.6341      0.473     -1.341      0.180      -1.563       0.294\n",
    "review_count        0.0004      0.000      1.689      0.092   -6.71e-05       0.001\n",
    "distance_away_x    -0.0013      0.001     -1.477      0.140      -0.003       0.000\n",
    "latitude          -68.6197      8.579     -7.998      0.000     -85.470     -51.769\n",
    "longitude         -41.6267      4.779     -8.711      0.000     -51.013     -32.241\n",
    "==============================================================================\n",
    "Omnibus:                       21.926   Durbin-Watson:                   0.600\n",
    "Prob(Omnibus):                  0.000   Jarque-Bera (JB):               14.088\n",
    "Skew:                           0.245   Prob(JB):                     0.000872\n",
    "Kurtosis:                       2.416   Cond. No.                     2.98e+06\n",
    "==============================================================================\n",
    "\n",
    "Notes:\n",
    "[1] Standard Errors assume that the covariance matrix of the errors is correctly specified.\n",
    "[2] The condition number is large, 2.98e+06. This might indicate that there are\n",
    "strong multicollinearity or other numerical problems."
   ]
  },
  {
   "cell_type": "code",
   "execution_count": null,
   "metadata": {},
   "outputs": [],
   "source": [
    "X= X.drop(['review_count'], axis=1)"
   ]
  },
  {
   "cell_type": "code",
   "execution_count": null,
   "metadata": {},
   "outputs": [],
   "source": [
    "X = sm.add_constant(X) # adding a constant\n",
    "lin_reg = sm.OLS(y,X)"
   ]
  },
  {
   "cell_type": "code",
   "execution_count": null,
   "metadata": {},
   "outputs": [],
   "source": [
    "model = lin_reg.fit()\n",
    "print_model = model.summary()\n",
    "print(print_model)"
   ]
  },
  {
   "cell_type": "markdown",
   "metadata": {},
   "source": [
    "                            OLS Regression Results                            \n",
    "==============================================================================\n",
    "Dep. Variable:            total_bikes   R-squared:                       0.176\n",
    "Model:                            OLS   Adj. R-squared:                  0.174\n",
    "Method:                 Least Squares   F-statistic:                     62.02\n",
    "Date:                Sat, 26 Aug 2023   Prob (F-statistic):           3.94e-25\n",
    "Time:                        15:57:43   Log-Likelihood:                -1711.9\n",
    "No. Observations:                 582   AIC:                             3430.\n",
    "Df Residuals:                     579   BIC:                             3443.\n",
    "Df Model:                           2                                         \n",
    "Covariance Type:            nonrobust                                         \n",
    "==============================================================================\n",
    "                 coef    std err          t      P>|t|      [0.025      0.975]\n",
    "------------------------------------------------------------------------------\n",
    "const      -1749.0209    531.477     -3.291      0.001   -2792.880    -705.162\n",
    "latitude     -72.6243      8.034     -9.040      0.000     -88.403     -56.846\n",
    "longitude    -41.3002      4.415     -9.355      0.000     -49.971     -32.629\n",
    "==============================================================================\n",
    "Omnibus:                       23.671   Durbin-Watson:                   0.562\n",
    "Prob(Omnibus):                  0.000   Jarque-Bera (JB):               14.476\n",
    "Skew:                           0.239   Prob(JB):                     0.000719\n",
    "Kurtosis:                       2.393   Cond. No.                     3.65e+05\n",
    "==============================================================================\n",
    "\n",
    "Notes:\n",
    "[1] Standard Errors assume that the covariance matrix of the errors is correctly specified.\n",
    "[2] The condition number is large, 3.65e+05. This might indicate that there are\n",
    "strong multicollinearity or other numerical problems."
   ]
  },
  {
   "cell_type": "code",
   "execution_count": null,
   "metadata": {},
   "outputs": [],
   "source": [
    "After eliminating P-values, it becomes evident that solely the bike station's geographic coordinates (latitude and longitude) maintain a substantial association with the count of potential total bikes at each station. This finding aligns with intuition, as areas with higher population density would logically feature more total bikes compared to less densely populated areas. However, even after discarding high P-values and achieving P-values of 0.000 for latitude and longitude, the adjusted R-squared value remains notably low at 0.174. Furthermore, this value slightly diminishes with each high P-value removal. The coefficients for latitude and longitude are uninformative in this context, as a positive or negative alteration in these values merely signifies a change in location, not a change in their magnitude. Therefore, despite the negative coefficients, they don't indicate a negative correlation between the variables.\n",
    "\n",
    "Consequently, it can be deduced that while a statistically significant relationship exists between the total number of bikes and the station's location\n"
   ]
  },
  {
   "cell_type": "markdown",
   "metadata": {},
   "source": [
    "# Stretch"
   ]
  },
  {
   "cell_type": "markdown",
   "metadata": {},
   "source": [
    "How can you turn the regression model into a classification model?"
   ]
  },
  {
   "cell_type": "code",
   "execution_count": null,
   "metadata": {},
   "outputs": [],
   "source": [
    "# Example class definitions\n",
    "low_rating_threshold = 3.0\n",
    "high_rating_threshold = 4.5\n",
    "\n",
    "# Define a function to assign class labels\n",
    "def assign_class_label(rating):\n",
    "    if rating < low_rating_threshold:\n",
    "        return \"Low Rating\"\n",
    "    elif rating >= high_rating_threshold:\n",
    "        return \"High Rating\"\n",
    "    else:\n",
    "        return \"Medium Rating\"\n",
    "\n",
    "# Apply the function to create class labels\n",
    "merged_data['rating_class'] = merged_data['rating'].apply(assign_class_label)"
   ]
  }
 ],
 "metadata": {
  "kernelspec": {
   "display_name": "Python 3",
   "language": "python",
   "name": "python3"
  },
  "language_info": {
   "codemirror_mode": {
    "name": "ipython",
    "version": 3
   },
   "file_extension": ".py",
   "mimetype": "text/x-python",
   "name": "python",
   "nbconvert_exporter": "python",
   "pygments_lexer": "ipython3",
   "version": "3.11.4"
  }
 },
 "nbformat": 4,
 "nbformat_minor": 4
}
