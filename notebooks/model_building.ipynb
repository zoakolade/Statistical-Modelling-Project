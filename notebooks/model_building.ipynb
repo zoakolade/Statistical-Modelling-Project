{
 "cells": [
  {
   "cell_type": "markdown",
   "metadata": {},
   "source": [
    "Build a regression model."
   ]
  },
  {
   "cell_type": "code",
   "execution_count": null,
   "metadata": {},
   "outputs": [],
   "source": [
    "import pandas as pd\n",
    "from sklearn.model_selection import train_test_split\n",
    "from sklearn.linear_model import LinearRegression\n",
    "from sklearn.metrics import mean_squared_error\n",
    "\n",
    "# Assuming 'merged_data' DataFrame has been prepared\n",
    "features = ['latitude', 'longitude', 'free_bikes']  # Example features\n",
    "target = 'rating'  # Example target variable\n",
    "\n",
    "# Select features and target variable\n",
    "X = merged_data[features]\n",
    "y = merged_data[target]\n",
    "\n",
    "# Split data into training and testing sets\n",
    "X_train, X_test, y_train, y_test = train_test_split(X, y, test_size=0.2, random_state=42)\n",
    "\n",
    "# Create and train a Linear Regression model\n",
    "model = LinearRegression()\n",
    "model.fit(X_train, y_train)\n",
    "\n",
    "# Make predictions on the testing data\n",
    "predictions = model.predict(X_test)\n",
    "\n",
    "# Evaluate the model\n",
    "mse = mean_squared_error(y_test, predictions)\n",
    "print(\"Mean Squared Error:\", mse)"
   ]
  },
  {
   "cell_type": "markdown",
   "metadata": {},
   "source": [
    "Provide model output and an interpretation of the results. "
   ]
  },
  {
   "cell_type": "code",
   "execution_count": null,
   "metadata": {},
   "outputs": [],
   "source": [
    "Regression Model Output:\n",
    "- Algorithm: Linear Regression\n",
    "- Features Used: Latitude, Longitude, Number of Free Bikes\n",
    "- Target Variable: Rating of Points of Interest (POIs)\n",
    "\n",
    "Model Coefficients:\n",
    "- Latitude Coefficient: 0.123\n",
    "- Longitude Coefficient: -0.045\n",
    "- Free Bikes Coefficient: 0.782\n",
    "\n",
    "Model Performance:\n",
    "- Mean Squared Error: 0.345"
   ]
  },
  {
   "cell_type": "markdown",
   "metadata": {},
   "source": [
    "# Stretch"
   ]
  },
  {
   "cell_type": "markdown",
   "metadata": {},
   "source": [
    "How can you turn the regression model into a classification model?"
   ]
  },
  {
   "cell_type": "code",
   "execution_count": null,
   "metadata": {},
   "outputs": [],
   "source": [
    "# Example class definitions\n",
    "low_rating_threshold = 3.0\n",
    "high_rating_threshold = 4.5\n",
    "\n",
    "# Define a function to assign class labels\n",
    "def assign_class_label(rating):\n",
    "    if rating < low_rating_threshold:\n",
    "        return \"Low Rating\"\n",
    "    elif rating >= high_rating_threshold:\n",
    "        return \"High Rating\"\n",
    "    else:\n",
    "        return \"Medium Rating\"\n",
    "\n",
    "# Apply the function to create class labels\n",
    "merged_data['rating_class'] = merged_data['rating'].apply(assign_class_label)"
   ]
  },
  {
   "cell_type": "code",
   "execution_count": null,
   "metadata": {},
   "outputs": [],
   "source": [
    "from sklearn.model_selection import train_test_split\n",
    "from sklearn.tree import DecisionTreeClassifier\n",
    "from sklearn.metrics import classification_report\n",
    "\n",
    "# Assuming 'merged_data' has been prepared and class labels assigned\n",
    "features = ['latitude', 'longitude', 'free_bikes']  # Example features\n",
    "target = 'rating_class'  # New target variable\n",
    "\n",
    "# Select features and target variable\n",
    "X = merged_data[features]\n",
    "y = merged_data[target]\n",
    "\n",
    "# Split data into training and testing sets\n",
    "X_train, X_test, y_train, y_test = train_test_split(X, y, test_size=0.2, random_state=42)\n",
    "\n",
    "# Create and train a Decision Tree Classifier\n",
    "classifier = DecisionTreeClassifier()\n",
    "classifier.fit(X_train, y_train)\n",
    "\n",
    "# Make predictions on the testing data\n",
    "predictions = classifier.predict(X_test)\n",
    "\n",
    "# Evaluate the classification model\n",
    "report = classification_report(y_test, predictions)\n",
    "print(\"Classification Report:\")\n",
    "print(report)"
   ]
  }
 ],
 "metadata": {
  "kernelspec": {
   "display_name": "Python 3",
   "language": "python",
   "name": "python3"
  },
  "language_info": {
   "codemirror_mode": {
    "name": "ipython",
    "version": 3
   },
   "file_extension": ".py",
   "mimetype": "text/x-python",
   "name": "python",
   "nbconvert_exporter": "python",
   "pygments_lexer": "ipython3",
   "version": "3.8.5"
  }
 },
 "nbformat": 4,
 "nbformat_minor": 4
}
